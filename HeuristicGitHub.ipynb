{
 "cells": [
  {
   "cell_type": "markdown",
   "metadata": {},
   "source": [
    "# The $p$-innovation-ecosystems\n",
    "\n",
    "## Heuristic model $p$-innovation ecosystems\n",
    "\n",
    "\n",
    "__Director__ = Juan C. Duque\n",
    "\n",
    "__credits__ = \"Copyright (c) 2009-2021 Juan C. Duque and Daniel Restrepo\"\n",
    "\n",
    "__license__ = \"New BSD License\" (https://github.com/clusterpy/clusterpy/blob/master/LICENSE.txt)\n",
    "\n",
    "__version__ = \"1.0.0\"\n",
    "\n",
    "__maintainer__ = \"RiSE Group\"  (http://www.rise-group.org/). Universidad EAFIT\n",
    "\n",
    "__email__ = \"jduquec1@eafit.edu.co\""
   ]
  },
  {
   "cell_type": "markdown",
   "metadata": {},
   "source": [
    "# 1. Exact Model"
   ]
  },
  {
   "cell_type": "markdown",
   "metadata": {},
   "source": [
    "<img src=\"model.png\" width=\"650\" height=\"650\" align=\"left\">"
   ]
  },
  {
   "cell_type": "markdown",
   "metadata": {},
   "source": [
    "## 1.1 Toy example"
   ]
  },
  {
   "cell_type": "markdown",
   "metadata": {},
   "source": [
    "<img src=\"toymodel.png\" width=\"700\" align=\"left\">"
   ]
  },
  {
   "cell_type": "markdown",
   "metadata": {},
   "source": [
    "# 2. Heuristic"
   ]
  },
  {
   "cell_type": "markdown",
   "metadata": {},
   "source": [
    "### 2.1 Import libraries"
   ]
  },
  {
   "cell_type": "code",
   "execution_count": 1,
   "metadata": {},
   "outputs": [
    {
     "name": "stdout",
     "output_type": "stream",
     "text": [
      "ClusterPy: Library of spatially constrained clustering algorithms\n",
      "Some functions are not available, reason: No module named Polygon\n",
      "Some functions are not available, reason: No module named Polygon\n"
     ]
    }
   ],
   "source": [
    "%matplotlib inline\n",
    "import clusterpy\n",
    "import pandas as pd\n",
    "import numpy as np\n",
    "import networkx as nx\n",
    "import matplotlib.pyplot as plt\n",
    "from copy import deepcopy\n",
    "import math\n"
   ]
  },
  {
   "cell_type": "markdown",
   "metadata": {},
   "source": [
    "### 2.2 Data reader"
   ]
  },
  {
   "cell_type": "markdown",
   "metadata": {},
   "source": [
    "#### Input-output files"
   ]
  },
  {
   "cell_type": "code",
   "execution_count": 2,
   "metadata": {},
   "outputs": [],
   "source": [
    "#This example is well documented and thoroughly explained in the supplementary material of the paper\n",
    "\n",
    "shapeFile = 'shape33' #Shape to define the innovation ecosystems\n",
    "production_matrix = 'matrix33.csv' #Distribution of the production within the areas of the shape\n",
    "input_product_space = 'links33.csv' #Product space of reference (excel or csv)\n",
    "ubiquity = 'ubiquity33.xlsx' #Ubiquity of the goods in the economy (ubiquity= 1-complexity)\n",
    "dijFile = \"dij33.xlsx\" #Matrix of distance decay values between areas\n",
    "\n",
    "\n",
    "T = 0.05  #Threshold for the product space\n",
    "\n",
    "p= 2 #Number of regions"
   ]
  },
  {
   "cell_type": "markdown",
   "metadata": {},
   "source": [
    "#### Read shape file"
   ]
  },
  {
   "cell_type": "code",
   "execution_count": 3,
   "metadata": {},
   "outputs": [
    {
     "name": "stdout",
     "output_type": "stream",
     "text": [
      "Loading shape33.dbf\n",
      "Loading shape33.shp\n",
      "Done\n"
     ]
    },
    {
     "data": {
      "text/plain": [
       "['ID']"
      ]
     },
     "execution_count": 3,
     "metadata": {},
     "output_type": "execute_result"
    }
   ],
   "source": [
    "shapexy = clusterpy.importArcData(shapeFile)\n",
    "shapexy.fieldNames"
   ]
  },
  {
   "cell_type": "code",
   "execution_count": 4,
   "metadata": {},
   "outputs": [],
   "source": [
    "n = len(shapexy.areas) #Number of areas"
   ]
  },
  {
   "cell_type": "markdown",
   "metadata": {},
   "source": [
    "#### Distance decay function (input $d_{ij}$)"
   ]
  },
  {
   "cell_type": "code",
   "execution_count": 5,
   "metadata": {},
   "outputs": [],
   "source": [
    "dijm=pd.read_excel(dijFile) #Reads the file of distances"
   ]
  },
  {
   "cell_type": "code",
   "execution_count": 6,
   "metadata": {},
   "outputs": [],
   "source": [
    "#We create a dictionary with the values of dij\n",
    "#Format dij[(area1,area2)]= value\n",
    "#Note that these labels must match with those of shapexy\n",
    "dij={}\n",
    "for i in range(9):\n",
    "    for j in range(9):\n",
    "        dij[(i,j)]= dijm[j][i]"
   ]
  },
  {
   "cell_type": "markdown",
   "metadata": {},
   "source": [
    "#### Spatial distribution of products (parameter $r_{il}$)"
   ]
  },
  {
   "cell_type": "code",
   "execution_count": 7,
   "metadata": {},
   "outputs": [],
   "source": [
    "matrix = pd.read_csv(production_matrix) #NEW \n",
    "matrix=matrix.set_index('location_code')\n",
    "matrix.fillna(0, inplace=True)"
   ]
  },
  {
   "cell_type": "markdown",
   "metadata": {},
   "source": [
    "#### Add the relative production as an attribute of the shape file"
   ]
  },
  {
   "cell_type": "code",
   "execution_count": 8,
   "metadata": {},
   "outputs": [
    {
     "name": "stdout",
     "output_type": "stream",
     "text": [
      "6\n"
     ]
    }
   ],
   "source": [
    "prod=list(matrix.columns)\n",
    "dict_matrix=matrix.to_dict()\n",
    "ty = type(dict_matrix.keys()[0])\n",
    "for l in prod:\n",
    "    l_values = dict_matrix[ty(l)]\n",
    "    attribute = {k: float(v) / total for total in (sum(l_values.itervalues(), 0.0),) for k, v in l_values.iteritems()}\n",
    "    shapexy.addVariable([str(l)],attribute)\n",
    "print shapexy.fieldNames"
   ]
  },
  {
   "cell_type": "markdown",
   "metadata": {},
   "source": [
    "#### Read ubiquity/complexity"
   ]
  },
  {
   "cell_type": "code",
   "execution_count": 9,
   "metadata": {},
   "outputs": [],
   "source": [
    "ub = pd.read_excel(ubiquity)\n",
    "ub.set_index('i', inplace =True)\n",
    "complexity = pd.DataFrame(1-ub['u'])"
   ]
  },
  {
   "cell_type": "markdown",
   "metadata": {},
   "source": [
    "#### Product space function"
   ]
  },
  {
   "cell_type": "code",
   "execution_count": 10,
   "metadata": {},
   "outputs": [],
   "source": [
    "def productSpace(goods, ps, complexity , T=0.05,  complexitycrit=min):\n",
    "    #Goods= Available goods\n",
    "    #ps= Product space of reference\n",
    "    #Complexity= Complexity values per good\n",
    "    # T= Threshold\n",
    "    # complexitycrit= the criterion to define a node as target,i.e., its complexity is greater than or equal than at least one neighbors\n",
    "    # complexitycrit=min correspondes to this latter case.\n",
    "\n",
    "    \n",
    "    \n",
    "    # Product space.\n",
    "    #complexity\n",
    "    compmax=complexity[complexity.columns[0]].max()\n",
    "    compmin=complexity[complexity.columns[0]].min()\n",
    "    comp = {}              #{101: 0.49537935936493815, 102: 0.6000562838453932, 103: 0.46391192190560526,\n",
    "    for i in list(complexity.index):   #normalize the complexity\n",
    "        comp[int(i)] = (float(complexity[complexity.columns[0]][i])-compmin)/(compmax-compmin)\n",
    "    \n",
    "    #Control by the threshold (i,j, w)\n",
    "    #{(307, 7322, 0.5765621752348066),(5403, 8448, 0.8123892541618876),(2823, 8467, 0.834222160825246),\n",
    "    \n",
    "    \n",
    "\n",
    "    G = nx.Graph()\n",
    "\n",
    "\n",
    "    PS=np.array(ps[['i','j','w']][ps['w']>T])\n",
    "    PS=[(int(i),int(j),w) for (i,j,w) in PS]\n",
    "    G.add_weighted_edges_from(PS)\n",
    "    \n",
    "    #Take giant component to guarantee conectedness\n",
    "\n",
    "    G=sorted(nx.connected_component_subgraphs(G), key = len, reverse=True)[0]\n",
    "    print \"Nodes in PS\", len(G.nodes())\n",
    "\n",
    "    print \"Links in PS\", len(G.edges())\n",
    "\n",
    "    #assign complexity values to nodes\n",
    "    for n in G.nodes():\n",
    "        try:\n",
    "            G.node[n]['c'] = comp[n]  #>>>G.node[401] -> {'c': 0.49586618568114704}\n",
    "        except:\n",
    "            G.node[n]['c'] = 0\n",
    "\n",
    "    #Target Nodes: GT = {2, 7, 8, 12}\n",
    "    #Defining the subsets of the PS\n",
    "    #Available goods\n",
    "    print 'Number of goods', len(goods)\n",
    "    LI0 = G.copy()\n",
    "    LI0.remove_nodes_from([n for n in LI0.nodes() if n not in goods])\n",
    "    print \"Size available goods (LI0)\", len(LI0.nodes())\n",
    "\n",
    "    #Firstorderneigh\n",
    "    GT0 = set()\n",
    "    for x in LI0.nodes():\n",
    "        GT0.update(set(G[x].keys()))  #neighbours of products in country\n",
    "    GT0=GT0-set(goods)                  #Minus  products in country\n",
    "    #If a target good only relates with an available good then it is not included in the model (removes target good 16)\n",
    "    GT1 = set(x for x in list(GT0) if len(set(G[x].keys()) & set(map(int, goods))) > 1)\n",
    "\n",
    "    #Guarantee the improving in the complexity \n",
    "    GT = set()\n",
    "    for v in list(GT1):\n",
    "        if comp[v] > complexitycrit(comp[x] for x in set(G[v].keys()) & set(map(int, goods))): #(strict improving)\n",
    "            GT.add(int(v))\n",
    "\n",
    "    print \"Number of target nodes\",len(GT)\n",
    "    print \"Target Nodes\", GT #NEW\n",
    "\n",
    "\n",
    "\n",
    "    #remove isolated nodes\n",
    "    LI = G.copy()\n",
    "    blueandgreen = set(map(int, goods))|GT\n",
    "    LI.remove_nodes_from([n for n in LI.nodes() if n not in blueandgreen]) #products in country UNION target products (REVISAR)\n",
    "    #print \"size LI\", len(LI.nodes())\n",
    "\n",
    "    #remove isolated nodes from the list of fields in the shapefile  \n",
    "    isolates = list(nx.isolates(LI))\n",
    "    print \"Isolated nodes\", isolates\n",
    "\n",
    "\n",
    "\n",
    "    #print \"isolates\", list(nx.isolates(LI))\n",
    "    LI.remove_nodes_from(list(nx.isolates(LI)))\n",
    "    LI.remove_nodes_from(GT)\n",
    "    print \"Size blue nodes\", len(LI.nodes())\n",
    "    finalbluegreen = set(LI.nodes())|GT\n",
    "    G.remove_nodes_from([n for n in G.nodes() if n not in finalbluegreen])\n",
    "    \n",
    "\n",
    "\n",
    "    Waux=0\n",
    "    for v in GT:\n",
    "        Waux = Waux + float(len(set(G[v].keys()) & set(LI.nodes()))*(len(set(G[v].keys()) & set(LI.nodes()))-1))\n",
    "    for v in G.nodes():\n",
    "        if v in GT:\n",
    "            G.node[v]['istarget']=1\n",
    "        else:\n",
    "            G.node[v]['istarget']=0   \n",
    "\n",
    "    return G, LI, Waux,GT"
   ]
  },
  {
   "cell_type": "code",
   "execution_count": 11,
   "metadata": {},
   "outputs": [
    {
     "name": "stdout",
     "output_type": "stream",
     "text": [
      "Nodes in PS 8\n",
      "Links in PS 7\n",
      "Number of goods 5\n",
      "Size available goods (LI0) 5\n",
      "Number of target nodes 2\n",
      "Target Nodes set([2, 7])\n",
      "Isolated nodes []\n",
      "Size blue nodes 5\n"
     ]
    }
   ],
   "source": [
    "#We read the ps data\n",
    "ps = pd.read_csv(input_product_space)\n",
    "\n",
    "#Note: Columns matrix are string, G nodes are int\n",
    "#Inputs are explained at the begining of the definition of the function.\n",
    "\n",
    "G, LI, Waux, GT = productSpace([int(a) for a in set(matrix.columns)], ps, complexity)\n",
    "\n",
    "#Find below a summary of the information for the network G. Compare with Figure 2 in the paper."
   ]
  },
  {
   "cell_type": "markdown",
   "metadata": {},
   "source": [
    "# 3. Execute heuristic"
   ]
  },
  {
   "cell_type": "code",
   "execution_count": 12,
   "metadata": {},
   "outputs": [],
   "source": [
    "# parameters:\n",
    "# r_il: The relative relevance of the area i producing the good l\n",
    "# G: Product Space\n",
    "# p: number of regions\n",
    "# [W1,W2]: weigths\n",
    "# inits: initial solutions"
   ]
  },
  {
   "cell_type": "markdown",
   "metadata": {},
   "source": [
    "### 3.1  Balancing coeffients"
   ]
  },
  {
   "cell_type": "code",
   "execution_count": 13,
   "metadata": {},
   "outputs": [
    {
     "name": "stdout",
     "output_type": "stream",
     "text": [
      "W1,W2: 0.990099009901 0.00990099009901\n"
     ]
    }
   ],
   "source": [
    "#**(1/(4*(len(shape.areas)-p)*(len(shape.areas)-p+1)*len(LI.nodes())))\n",
    "h=(float(n)/(2*p))*(n-p)*Waux\n",
    "W = 10**(1+math.floor(math.log(h,10)))#This is W in the exact formulation.\n",
    "W1 = W/(1+W)\n",
    "W2 = 1-W1   #The second term does not have coefficient, that's why we put 1.\n",
    "print \"W1,W2:\",W1,W2"
   ]
  },
  {
   "cell_type": "markdown",
   "metadata": {},
   "source": [
    "### 3.2  Describe Inputs"
   ]
  },
  {
   "cell_type": "code",
   "execution_count": 14,
   "metadata": {},
   "outputs": [
    {
     "name": "stdout",
     "output_type": "stream",
     "text": [
      "\n",
      "    ###### THE GEOGRAPHY ######\n",
      "***** Number of areas (A): \n",
      "9\n",
      "***** Index of areas (i,j): \n",
      "[0, 1, 2, 3, 4, 5, 6, 7, 8]\n",
      "***** Neighbours (Ni): \n",
      "[1, 3]\n",
      "***** Distance decay (f):\n",
      "{(7, 3): 0.6235372149920557, (4, 7): 0.8366692041244473, (1, 3): 0.6235372149920557, (4, 8): 0.6235372149920557, (3, 0): 0.8366692041244473, (2, 8): 0.1322871615471579, (8, 0): -1.0, (7, 8): 0.8366692041244473, (5, 4): 0.8366692041244473, (0, 7): -0.1353363050482677, (5, 6): -0.1353363050482677, (2, 6): -1.0, (1, 6): -0.1353363050482677, (5, 1): 0.6235372149920557, (8, 6): 0.1322871615471579, (3, 7): 0.6235372149920557, (0, 3): 0.8366692041244473, (8, 5): 0.8366692041244473, (2, 5): 0.8366692041244473, (5, 8): 0.8366692041244473, (4, 0): 0.6235372149920557, (1, 2): 0.8366692041244473, (7, 4): 0.8366692041244473, (6, 4): 0.6235372149920557, (3, 3): 1.0, (0, 6): 0.1322871615471579, (8, 1): -0.1353363050482677, (7, 6): 0.8366692041244473, (4, 4): 1.0, (6, 3): 0.8366692041244473, (1, 5): 0.6235372149920557, (8, 8): 1.0, (7, 2): -0.1353363050482677, (3, 6): 0.8366692041244473, (2, 2): 1.0, (7, 7): 1.0, (5, 7): 0.6235372149920557, (5, 3): 0.1322871615471579, (4, 1): 0.8366692041244473, (1, 1): 1.0, (2, 7): -0.1353363050482677, (3, 2): -0.1353363050482677, (0, 0): 1.0, (6, 6): 1.0, (5, 0): -0.1353363050482677, (7, 1): 0.1322871615471579, (4, 5): 0.8366692041244473, (0, 4): 0.6235372149920557, (5, 5): 1.0, (1, 4): 0.8366692041244473, (6, 0): 0.1322871615471579, (7, 5): 0.6235372149920557, (2, 3): -0.1353363050482677, (2, 1): 0.8366692041244473, (8, 7): 0.8366692041244473, (6, 8): 0.1322871615471579, (4, 2): 0.6235372149920557, (1, 0): 0.8366692041244473, (0, 8): -1.0, (6, 5): -0.1353363050482677, (3, 5): 0.1322871615471579, (0, 1): 0.8366692041244473, (8, 3): -0.1353363050482677, (7, 0): -0.1353363050482677, (4, 6): 0.6235372149920557, (6, 7): 0.8366692041244473, (5, 2): 0.8366692041244473, (6, 1): -0.1353363050482677, (3, 1): 0.6235372149920557, (8, 2): 0.1322871615471579, (2, 4): 0.6235372149920557, (3, 8): -0.1353363050482677, (2, 0): 0.1322871615471579, (1, 8): -0.1353363050482677, (6, 2): -1.0, (4, 3): 0.8366692041244473, (1, 7): 0.1322871615471579, (0, 5): -0.1353363050482677, (3, 4): 0.8366692041244473, (0, 2): 0.1322871615471579, (8, 4): 0.6235372149920557}\n",
      "***** Number of regions (p):\n",
      "2\n",
      "\n",
      "    ###### THE PRODUCT SPACE ######\n",
      "***** Product space:\n",
      "\n"
     ]
    },
    {
     "data": {
      "image/png": "[encoded data removed]",
      "text/plain": [
       "<Figure size 432x288 with 1 Axes>"
      ]
     },
     "metadata": {
      "needs_background": "light"
     },
     "output_type": "display_data"
    },
    {
     "name": "stdout",
     "output_type": "stream",
     "text": [
      "***** Set of industries in PS (G) (indexes: l,m,v):\n",
      "7 [2, 3, 4, 5, 6]\n",
      "***** Complexities Sample (c):\n",
      "2 0.6666666666666666\n",
      "3 0.5\n",
      "4 0.0\n",
      "5 0.33333333333333337\n",
      "6 0.6666666666666666\n",
      "7 0.6666666666666666\n",
      "11 1.0\n",
      "***** Links in PS (L):\n",
      "6\n",
      "***** Edge weights sample (Ylm):\n",
      "(2, 11) 0.1\n",
      "(2, 3) 0.1\n",
      "(3, 4) 0.1\n",
      "(5, 6) 0.1\n",
      "(5, 7) 0.8\n",
      "(7, 11) 0.2\n",
      "***** Target Industries (GT):\n",
      "set([2, 7])\n",
      "***** Links between existing industries (LI):\n",
      "2\n"
     ]
    }
   ],
   "source": [
    "print \"\\n    ###### THE GEOGRAPHY ######\"\n",
    "print \"***** Number of areas (A): \\n\", len(shapexy.areas)\n",
    "print \"***** Index of areas (i,j): \\n\", shapexy.Y.keys()\n",
    "print \"***** Neighbours (Ni): \\n\", shapexy.Wrook[0]\n",
    "print \"***** Distance decay (f):\\n\", dij\n",
    "print \"***** Number of regions (p):\\n\", p \n",
    "print \"\\n    ###### THE PRODUCT SPACE ######\"\n",
    "print \"***** Product space:\\n\"\n",
    "\n",
    "#if the instance is too big for generating some of the descriptives, then take a sample of if\n",
    "if len(G.nodes()) > 50:\n",
    "    big = 1\n",
    "    sample_nodes = map(int, shapexy.fieldNames[4:20])\n",
    "    sample_graph =  G.subgraph(sample_nodes)\n",
    "else:\n",
    "    big = 0\n",
    "    sample_graph = G.copy()\n",
    "pos = nx.spring_layout(sample_graph)\n",
    "nx.draw_networkx_labels(sample_graph, pos)\n",
    "nx.draw_networkx_nodes(sample_graph, pos, node_size=700)\n",
    "nx.draw_networkx_edges(sample_graph, pos)\n",
    "plt.axis('off')\n",
    "plt.show()\n",
    "print \"***** Set of industries in PS (G) (indexes: l,m,v):\\n\", len(G.nodes()), list(G.nodes())[0:5] \n",
    "print \"***** Complexities Sample (c):\\n\", \n",
    "for n in sample_graph:\n",
    "    print n,G.node[n]['c']\n",
    "print \"***** Links in PS (L):\\n\", nx.number_of_edges(G)\n",
    "print \"***** Edge weights sample (Ylm):\\n\", \n",
    "for e in sample_graph.edges():\n",
    "    print e,G[e[0]][e[1]]['weight'] \n",
    "counter = 0\n",
    "\n",
    "\n",
    "print \"***** Target Industries (GT):\\n\", GT\n",
    "\n",
    "print \"***** Links between existing industries (LI):\\n\",len(LI.edges())\n",
    "\n",
    "\n",
    "\n",
    "            "
   ]
  },
  {
   "cell_type": "code",
   "execution_count": 15,
   "metadata": {},
   "outputs": [
    {
     "name": "stdout",
     "output_type": "stream",
     "text": [
      "2 {'c': 0.6666666666666666, 'istarget': 1}\n",
      "3 {'c': 0.5, 'istarget': 0}\n",
      "4 {'c': 0.0, 'istarget': 0}\n",
      "5 {'c': 0.33333333333333337, 'istarget': 0}\n",
      "6 {'c': 0.6666666666666666, 'istarget': 0}\n",
      "7 {'c': 0.6666666666666666, 'istarget': 1}\n",
      "11 {'c': 1.0, 'istarget': 0}\n"
     ]
    }
   ],
   "source": [
    "for g in G.nodes():\n",
    "    print g,G.node[g]"
   ]
  },
  {
   "cell_type": "markdown",
   "metadata": {},
   "source": [
    "### 3.3 Execute Heuristic"
   ]
  },
  {
   "cell_type": "code",
   "execution_count": 16,
   "metadata": {},
   "outputs": [],
   "source": [
    "#fields to be considered as products\n",
    "fields= shapexy.fieldNames[1:]"
   ]
  },
  {
   "cell_type": "code",
   "execution_count": 17,
   "metadata": {},
   "outputs": [
    {
     "name": "stdout",
     "output_type": "stream",
     "text": [
      "Running the p-Innovation-Ecosystem-regions algorithm\n",
      "Number of areas:  9\n",
      "Number of regions:  2\n",
      "INITIAL SOLUTION:  [1, 1, 1, 1, 0, 1, 1, 1, 1] \n",
      "INITIAL OF:  -1.2699246742238337\n",
      "-1.2699246742238337 -1.108164628302186 1\n",
      "-1.2699246742238337 -1.1138668156076166 2\n",
      "-1.2699246742238337 -1.0958483392709433 3\n",
      "-1.2699246742238337 -1.1708097590693014 4\n",
      "-1.2723342557735307 -1.2723342557735307 1\n",
      "-1.2776353351828647 -1.2776353351828647 1\n",
      "-1.2776353351828647 -1.1749790052501017 2\n",
      "-1.2776353351828647 -1.0984988789756103 3\n",
      "-1.2776353351828647 -1.11538552208375 4\n",
      "-1.2776353351828647 -1.0105684196237874 5\n",
      "-1.2776353351828647 -1.175227814272599 6\n",
      "-1.2776353351828647 -1.0958483392709433 7\n",
      "-1.2776353351828647 -1.1105742098518832 8\n",
      "-1.2776353351828647 -1.2723342557735309 9\n",
      "-1.2776353351828647 -1.2776353351828647 10\n",
      "FINAL SOLUTION:  [1, 0, 0, 1, 0, 0, 1, 1, 0] \n",
      "FINAL OF:  -1.2776353351828647\n",
      "area2area_distance has been saved in your workfile\n"
     ]
    }
   ],
   "source": [
    "#Routine for the heuristic in clusterpy\n",
    "#For more details about \"conTabu\" and \"tabuLength\" please see the documentation of the p-regions model in the Clusterpy library\n",
    "\n",
    "shapexy.cluster('pInnovationEcosystems', fields, G, p, [W1,W2], dij, fields, area2area_distance={}, inits=2, convTabu=10, tabuLength=10)"
   ]
  },
  {
   "cell_type": "code",
   "execution_count": 18,
   "metadata": {},
   "outputs": [],
   "source": [
    "def get_solution(shape):\n",
    "    solucion_p_innovation = []\n",
    "    for i in range(len(shape.areas)):\n",
    "        solucion_p_innovation.append(shape.getVars(shape.fieldNames[-1])[i][0])\n",
    "    return solucion_p_innovation"
   ]
  },
  {
   "cell_type": "code",
   "execution_count": 19,
   "metadata": {},
   "outputs": [
    {
     "data": {
      "text/plain": [
       "[1, 0, 0, 1, 0, 0, 1, 1, 0]"
      ]
     },
     "execution_count": 19,
     "metadata": {},
     "output_type": "execute_result"
    }
   ],
   "source": [
    "get_solution(shapexy)"
   ]
  },
  {
   "cell_type": "code",
   "execution_count": 24,
   "metadata": {},
   "outputs": [],
   "source": [
    "def drawMap(instance, regions, W1, W2):\n",
    "    instance.addVariable(['REG'], regions)\n",
    "    instance.exportArcData(\"result\")\n",
    "    #Draw map\n",
    "    import geopandas as gpd\n",
    "    import matplotlib.pyplot as plt\n",
    "    %matplotlib inline\n",
    "    db = gpd.read_file('result.shp').set_index('ID')\n",
    "    #db.info()\n",
    "    f, ax = plt.subplots(1,figsize=(5, 5))\n",
    "    db.plot(column='REG', linewidth=0.05, cmap='viridis',ax=ax)\n",
    "    plt.suptitle(\"W1=\"+str(W1)+\", W2=\"+str(W2), size=15)\n",
    "    #plt.savefig('outputMap1/map.png', dpi=500)\n",
    "    plt.show()"
   ]
  },
  {
   "cell_type": "code",
   "execution_count": 25,
   "metadata": {},
   "outputs": [
    {
     "data": {
      "image/png": "[encoded data removed]",
      "text/plain": [
       "<Figure size 360x360 with 1 Axes>"
      ]
     },
     "metadata": {
      "needs_background": "light"
     },
     "output_type": "display_data"
    }
   ],
   "source": [
    "drawMap(shapexy, shapexy.region2areas, W1, W2)"
   ]
  },
  {
   "cell_type": "markdown",
   "metadata": {},
   "source": [
    "# END"
   ]
  }
 ],
 "metadata": {
  "anaconda-cloud": {},
  "kernelspec": {
   "display_name": "Python 2",
   "language": "python",
   "name": "python2"
  },
  "language_info": {
   "codemirror_mode": {
    "name": "ipython",
    "version": 2
   },
   "file_extension": ".py",
   "mimetype": "text/x-python",
   "name": "python",
   "nbconvert_exporter": "python",
   "pygments_lexer": "ipython2",
   "version": "2.7.16"
  }
 },
 "nbformat": 4,
 "nbformat_minor": 1
}
